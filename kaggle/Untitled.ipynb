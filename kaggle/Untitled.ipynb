{
 "cells": [
  {
   "cell_type": "code",
   "execution_count": 7,
   "id": "0f0b49b1",
   "metadata": {},
   "outputs": [
    {
     "name": "stdout",
     "output_type": "stream",
     "text": [
      "0.9995918277776559\n"
     ]
    }
   ],
   "source": [
    "import os\n",
    "\n",
    "import matplotlib.pyplot as plt\n",
    "import xgboost as xgb\n",
    "import numpy as np\n",
    "import pandas as pd\n",
    "\n",
    "from interpret.glassbox import ExplainableBoostingClassifier\n",
    "from interpret import show\n",
    "\n",
    "from sklearn.model_selection import train_test_split\n",
    "from sklearn.metrics import accuracy_score\n",
    "\n",
    "SEED = 0\n",
    "\n",
    "# base, gaussian\n",
    "noise_method = 'gaussian'\n",
    "\n",
    "\n",
    "# Train dataset\n",
    "df = pd.read_csv('./datasets/creditcard.csv')\n",
    "x_cln_df = df.iloc[:,1:-2]\n",
    "y_cln_df = df.iloc[:,-1]\n",
    "\n",
    "x_train, x_test, y_train, y_test = train_test_split(x_cln_df, y_cln_df, test_size=0.2, random_state=SEED)\n",
    "\n",
    "ebm = ExplainableBoostingClassifier(random_state=SEED)\n",
    "ebm.fit(x_train, y_train)\n",
    "pred = ebm.predict(x_train)\n",
    "print(accuracy_score(pred, y_train))"
   ]
  },
  {
   "cell_type": "code",
   "execution_count": null,
   "id": "e84fd3cc",
   "metadata": {},
   "outputs": [],
   "source": []
  }
 ],
 "metadata": {
  "kernelspec": {
   "display_name": "Python 3 (ipykernel)",
   "language": "python",
   "name": "python3"
  },
  "language_info": {
   "codemirror_mode": {
    "name": "ipython",
    "version": 3
   },
   "file_extension": ".py",
   "mimetype": "text/x-python",
   "name": "python",
   "nbconvert_exporter": "python",
   "pygments_lexer": "ipython3",
   "version": "3.10.6"
  }
 },
 "nbformat": 4,
 "nbformat_minor": 5
}

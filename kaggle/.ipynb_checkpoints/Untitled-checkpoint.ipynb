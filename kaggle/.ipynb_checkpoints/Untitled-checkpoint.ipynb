{
 "cells": [
  {
   "cell_type": "code",
   "execution_count": 3,
   "id": "4fc1ab5b",
   "metadata": {},
   "outputs": [
    {
     "ename": "TypeError",
     "evalue": "EBMModel.fit() missing 1 required positional argument: 'y'",
     "output_type": "error",
     "traceback": [
      "\u001b[0;31m---------------------------------------------------------------------------\u001b[0m",
      "\u001b[0;31mTypeError\u001b[0m                                 Traceback (most recent call last)",
      "Cell \u001b[0;32mIn[3], line 28\u001b[0m\n\u001b[1;32m     25\u001b[0m x_train, x_test, y_train, y_test \u001b[38;5;241m=\u001b[39m train_test_split(x_cln_df, y_cln_df, test_size\u001b[38;5;241m=\u001b[39m\u001b[38;5;241m0.2\u001b[39m, random_state\u001b[38;5;241m=\u001b[39mSEED)\n\u001b[1;32m     27\u001b[0m ebm \u001b[38;5;241m=\u001b[39m ExplainableBoostingClassifier(random_state\u001b[38;5;241m=\u001b[39mSEED)\n\u001b[0;32m---> 28\u001b[0m \u001b[43mebm\u001b[49m\u001b[38;5;241;43m.\u001b[39;49m\u001b[43mfit\u001b[49m\u001b[43m(\u001b[49m\u001b[43mx_train\u001b[49m\u001b[43m)\u001b[49m\n\u001b[1;32m     30\u001b[0m \u001b[38;5;66;03m# Global Explanations: What the model learned overall\u001b[39;00m\n\u001b[1;32m     31\u001b[0m ebm_global \u001b[38;5;241m=\u001b[39m ebm\u001b[38;5;241m.\u001b[39mexplain_global(name\u001b[38;5;241m=\u001b[39m\u001b[38;5;124m'\u001b[39m\u001b[38;5;124mEBM\u001b[39m\u001b[38;5;124m'\u001b[39m)\n",
      "\u001b[0;31mTypeError\u001b[0m: EBMModel.fit() missing 1 required positional argument: 'y'"
     ]
    }
   ],
   "source": [
    "import os\n",
    "\n",
    "import matplotlib.pyplot as plt\n",
    "import xgboost as xgb\n",
    "import numpy as np\n",
    "import pandas as pd\n",
    "\n",
    "from interpret.glassbox import ExplainableBoostingClassifier\n",
    "from interpret import show\n",
    "\n",
    "from sklearn.model_selection import train_test_split\n",
    "from sklearn.metrics import accuracy_score\n",
    "\n",
    "SEED = 0\n",
    "\n",
    "# base, gaussian\n",
    "noise_method = 'gaussian'\n",
    "\n",
    "\n",
    "# Train dataset\n",
    "df = pd.read_csv('./datasets/creditcard.csv')\n",
    "x_cln_df = df.iloc[:,1:-2]\n",
    "y_cln_df = df.iloc[:,-1]\n",
    "\n",
    "x_train, x_test, y_train, y_test = train_test_split(x_cln_df, y_cln_df, test_size=0.2, random_state=SEED)\n",
    "\n",
    "ebm = ExplainableBoostingClassifier(random_state=SEED)\n",
    "ebm.fit(x_train, y_train)\n",
    "\n",
    "# Global Explanations: What the model learned overall\n",
    "ebm_global = ebm.explain_global(name='EBM')\n",
    "show(ebm_global)\n"
   ]
  },
  {
   "cell_type": "code",
   "execution_count": null,
   "id": "6d2cc80a",
   "metadata": {},
   "outputs": [],
   "source": []
  }
 ],
 "metadata": {
  "kernelspec": {
   "display_name": "Python 3 (ipykernel)",
   "language": "python",
   "name": "python3"
  },
  "language_info": {
   "codemirror_mode": {
    "name": "ipython",
    "version": 3
   },
   "file_extension": ".py",
   "mimetype": "text/x-python",
   "name": "python",
   "nbconvert_exporter": "python",
   "pygments_lexer": "ipython3",
   "version": "3.10.6"
  }
 },
 "nbformat": 4,
 "nbformat_minor": 5
}
